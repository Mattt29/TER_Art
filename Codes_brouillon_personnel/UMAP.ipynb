{
 "cells": [
  {
   "cell_type": "code",
   "execution_count": null,
   "id": "5ba436a5",
   "metadata": {},
   "outputs": [],
   "source": [
    "import numpy as np\n",
    "import umap\n",
    "import torch\n",
    "import plotly.express as px"
   ]
  },
  {
   "cell_type": "code",
   "execution_count": null,
   "id": "0affa0d4",
   "metadata": {},
   "outputs": [],
   "source": [
    "# Remplir avec les features\n",
    "features=..."
   ]
  },
  {
   "cell_type": "code",
   "execution_count": null,
   "id": "45eaca81",
   "metadata": {},
   "outputs": [],
   "source": [
    "# UMAP Réduction des features à 2 dimensions\n",
    "umap_2d = umap.umap_.UMAP(n_components=2)\n",
    "umap_2d.fit(features)\n",
    "projections_umap = umap_2d.transform(features)"
   ]
  },
  {
   "cell_type": "code",
   "execution_count": null,
   "id": "a3e11351",
   "metadata": {},
   "outputs": [],
   "source": [
    "# Visualisation\n",
    "fig = px.scatter(projections_umap)\n",
    "fig.show()"
   ]
  }
 ],
 "metadata": {
  "kernelspec": {
   "display_name": "Python 3 (ipykernel)",
   "language": "python",
   "name": "python3"
  },
  "language_info": {
   "codemirror_mode": {
    "name": "ipython",
    "version": 3
   },
   "file_extension": ".py",
   "mimetype": "text/x-python",
   "name": "python",
   "nbconvert_exporter": "python",
   "pygments_lexer": "ipython3",
   "version": "3.9.15"
  }
 },
 "nbformat": 4,
 "nbformat_minor": 5
}
