{
 "cells": [
  {
   "cell_type": "code",
   "execution_count": 1,
   "id": "939ea3bd",
   "metadata": {},
   "outputs": [],
   "source": [
    "import numpy as np"
   ]
  },
  {
   "cell_type": "markdown",
   "id": "dae5029a",
   "metadata": {},
   "source": [
    "Import fonction ACP"
   ]
  },
  {
   "cell_type": "code",
   "execution_count": 3,
   "id": "723442a2",
   "metadata": {},
   "outputs": [],
   "source": [
    "from sklearn.decomposition import PCA"
   ]
  },
  {
   "cell_type": "markdown",
   "id": "477a3bc6",
   "metadata": {},
   "source": [
    "Import des données"
   ]
  },
  {
   "cell_type": "code",
   "execution_count": 4,
   "id": "9bafd116",
   "metadata": {},
   "outputs": [],
   "source": [
    "from sklearn.datasets import load_wine\n",
    "\n",
    "values, target = load_wine(return_X_y=True)\n",
    "target_names = load_wine().target_names\n",
    "feature_names = load_wine().feature_names"
   ]
  },
  {
   "cell_type": "markdown",
   "id": "1ea9fd50",
   "metadata": {},
   "source": [
    "Standardisation des données"
   ]
  },
  {
   "cell_type": "code",
   "execution_count": 5,
   "id": "f014c3d8",
   "metadata": {},
   "outputs": [],
   "source": [
    "from sklearn.preprocessing import StandardScaler\n",
    "values_cr = StandardScaler().fit_transform(values)"
   ]
  },
  {
   "cell_type": "markdown",
   "id": "ac8ec40f",
   "metadata": {},
   "source": [
    " Paramètrage de l'ACP pour garder les deux premières composantes"
   ]
  },
  {
   "cell_type": "code",
   "execution_count": 6,
   "id": "e274d150",
   "metadata": {},
   "outputs": [],
   "source": [
    "pca=PCA(2)\n",
    "pca_wine = pca.fit_transform(values_cr)"
   ]
  },
  {
   "cell_type": "markdown",
   "id": "b4b6df24",
   "metadata": {},
   "source": [
    "En sortie : le même nombre de lignes que les données en entrées et le nombre de variables correspondant au nombre de composantes conservées"
   ]
  },
  {
   "cell_type": "code",
   "execution_count": 7,
   "id": "9f8a3a60",
   "metadata": {},
   "outputs": [
    {
     "data": {
      "text/plain": [
       "(178, 2)"
      ]
     },
     "execution_count": 7,
     "metadata": {},
     "output_type": "execute_result"
    }
   ],
   "source": [
    "pca_wine.shape"
   ]
  },
  {
   "cell_type": "markdown",
   "id": "951da70d",
   "metadata": {},
   "source": [
    "Variance totale expliquée par nos deux composantes."
   ]
  },
  {
   "cell_type": "code",
   "execution_count": 8,
   "id": "592b0c0f",
   "metadata": {},
   "outputs": [
    {
     "data": {
      "text/plain": [
       "0.554063383569353"
      ]
     },
     "execution_count": 8,
     "metadata": {},
     "output_type": "execute_result"
    }
   ],
   "source": [
    "pca.explained_variance_ratio_.sum()"
   ]
  },
  {
   "cell_type": "code",
   "execution_count": 9,
   "id": "cd8e90ef",
   "metadata": {},
   "outputs": [
    {
     "data": {
      "image/png": "[encoded data removed]",
      "text/plain": [
       "<Figure size 432x288 with 1 Axes>"
      ]
     },
     "metadata": {
      "needs_background": "light"
     },
     "output_type": "display_data"
    }
   ],
   "source": [
    "%matplotlib inline\n",
    "import matplotlib.pyplot as plt\n",
    "\n",
    "# On fait le plot\n",
    "color = [\"red\", \"blue\", \"black\"]\n",
    "for i in range(3):\n",
    "    plt.scatter(pca_wine[target == i, 0], pca_wine[target == i, 1],\n",
    "            c=color[i], label = target_names[i])\n",
    "plt.xlabel('Composante 1 (' + str(round(pca.explained_variance_ratio_[0] * 100, 1)) + ' %)')\n",
    "plt.ylabel('Composante 2 (' + str(round(pca.explained_variance_ratio_[1] * 100, 1)) + ' %)')\n",
    "plt.legend()\n",
    "plt.show()"
   ]
  },
  {
   "cell_type": "markdown",
   "id": "14e6acfb",
   "metadata": {},
   "source": [
    "Contribution des variables aux composantes"
   ]
  },
  {
   "cell_type": "code",
   "execution_count": 11,
   "id": "f3b573f4",
   "metadata": {},
   "outputs": [
    {
     "data": {
      "text/html": [
       "<div>\n",
       "<style scoped>\n",
       "    .dataframe tbody tr th:only-of-type {\n",
       "        vertical-align: middle;\n",
       "    }\n",
       "\n",
       "    .dataframe tbody tr th {\n",
       "        vertical-align: top;\n",
       "    }\n",
       "\n",
       "    .dataframe thead th {\n",
       "        text-align: right;\n",
       "    }\n",
       "</style>\n",
       "<table border=\"1\" class=\"dataframe\">\n",
       "  <thead>\n",
       "    <tr style=\"text-align: right;\">\n",
       "      <th></th>\n",
       "      <th>Noms des variables</th>\n",
       "      <th>Composante 1</th>\n",
       "      <th>Composante 2</th>\n",
       "    </tr>\n",
       "  </thead>\n",
       "  <tbody>\n",
       "    <tr>\n",
       "      <th>0</th>\n",
       "      <td>alcohol</td>\n",
       "      <td>0.144329</td>\n",
       "      <td>-0.483652</td>\n",
       "    </tr>\n",
       "    <tr>\n",
       "      <th>1</th>\n",
       "      <td>malic_acid</td>\n",
       "      <td>-0.245188</td>\n",
       "      <td>-0.224931</td>\n",
       "    </tr>\n",
       "    <tr>\n",
       "      <th>2</th>\n",
       "      <td>ash</td>\n",
       "      <td>-0.002051</td>\n",
       "      <td>-0.316069</td>\n",
       "    </tr>\n",
       "    <tr>\n",
       "      <th>3</th>\n",
       "      <td>alcalinity_of_ash</td>\n",
       "      <td>-0.239320</td>\n",
       "      <td>0.010591</td>\n",
       "    </tr>\n",
       "    <tr>\n",
       "      <th>4</th>\n",
       "      <td>magnesium</td>\n",
       "      <td>0.141992</td>\n",
       "      <td>-0.299634</td>\n",
       "    </tr>\n",
       "    <tr>\n",
       "      <th>5</th>\n",
       "      <td>total_phenols</td>\n",
       "      <td>0.394661</td>\n",
       "      <td>-0.065040</td>\n",
       "    </tr>\n",
       "    <tr>\n",
       "      <th>6</th>\n",
       "      <td>flavanoids</td>\n",
       "      <td>0.422934</td>\n",
       "      <td>0.003360</td>\n",
       "    </tr>\n",
       "    <tr>\n",
       "      <th>7</th>\n",
       "      <td>nonflavanoid_phenols</td>\n",
       "      <td>-0.298533</td>\n",
       "      <td>-0.028779</td>\n",
       "    </tr>\n",
       "    <tr>\n",
       "      <th>8</th>\n",
       "      <td>proanthocyanins</td>\n",
       "      <td>0.313429</td>\n",
       "      <td>-0.039302</td>\n",
       "    </tr>\n",
       "    <tr>\n",
       "      <th>9</th>\n",
       "      <td>color_intensity</td>\n",
       "      <td>-0.088617</td>\n",
       "      <td>-0.529996</td>\n",
       "    </tr>\n",
       "    <tr>\n",
       "      <th>10</th>\n",
       "      <td>hue</td>\n",
       "      <td>0.296715</td>\n",
       "      <td>0.279235</td>\n",
       "    </tr>\n",
       "    <tr>\n",
       "      <th>11</th>\n",
       "      <td>od280/od315_of_diluted_wines</td>\n",
       "      <td>0.376167</td>\n",
       "      <td>0.164496</td>\n",
       "    </tr>\n",
       "    <tr>\n",
       "      <th>12</th>\n",
       "      <td>proline</td>\n",
       "      <td>0.286752</td>\n",
       "      <td>-0.364903</td>\n",
       "    </tr>\n",
       "  </tbody>\n",
       "</table>\n",
       "</div>"
      ],
      "text/plain": [
       "              Noms des variables  Composante 1  Composante 2\n",
       "0                        alcohol      0.144329     -0.483652\n",
       "1                     malic_acid     -0.245188     -0.224931\n",
       "2                            ash     -0.002051     -0.316069\n",
       "3              alcalinity_of_ash     -0.239320      0.010591\n",
       "4                      magnesium      0.141992     -0.299634\n",
       "5                  total_phenols      0.394661     -0.065040\n",
       "6                     flavanoids      0.422934      0.003360\n",
       "7           nonflavanoid_phenols     -0.298533     -0.028779\n",
       "8                proanthocyanins      0.313429     -0.039302\n",
       "9                color_intensity     -0.088617     -0.529996\n",
       "10                           hue      0.296715      0.279235\n",
       "11  od280/od315_of_diluted_wines      0.376167      0.164496\n",
       "12                       proline      0.286752     -0.364903"
      ]
     },
     "execution_count": 11,
     "metadata": {},
     "output_type": "execute_result"
    }
   ],
   "source": [
    "import pandas as pd\n",
    "pd.DataFrame({\"Noms des variables\" : feature_names, \"Composante 1\" : pca.components_[0], \"Composante 2\" : pca.components_[1]})"
   ]
  },
  {
   "cell_type": "code",
   "execution_count": 12,
   "id": "4ffa5326",
   "metadata": {},
   "outputs": [
    {
     "data": {
      "image/png": "[encoded data removed]",
      "text/plain": [
       "<Figure size 432x288 with 1 Axes>"
      ]
     },
     "metadata": {
      "needs_background": "light"
     },
     "output_type": "display_data"
    }
   ],
   "source": [
    "pca_graph = PCA().fit(values_cr)\n",
    "plt.plot(np.cumsum(pca_graph.explained_variance_ratio_),)\n",
    "plt.xlabel('Nombre de composantes')\n",
    "plt.ylabel('Variance expliquée')\n",
    "plt.xticks(np.arange(len(pca_graph.explained_variance_ratio_)), np.arange(1, len(pca_graph.explained_variance_ratio_)+1))\n",
    "plt.show()"
   ]
  },
  {
   "cell_type": "code",
   "execution_count": 13,
   "id": "43235979",
   "metadata": {},
   "outputs": [
    {
     "data": {
      "text/html": [
       "<div>\n",
       "<style scoped>\n",
       "    .dataframe tbody tr th:only-of-type {\n",
       "        vertical-align: middle;\n",
       "    }\n",
       "\n",
       "    .dataframe tbody tr th {\n",
       "        vertical-align: top;\n",
       "    }\n",
       "\n",
       "    .dataframe thead th {\n",
       "        text-align: right;\n",
       "    }\n",
       "</style>\n",
       "<table border=\"1\" class=\"dataframe\">\n",
       "  <thead>\n",
       "    <tr style=\"text-align: right;\">\n",
       "      <th></th>\n",
       "      <th>Précision moyenne après ACP</th>\n",
       "      <th>Précision moyenne sans ACP</th>\n",
       "      <th>Nombre de composantes</th>\n",
       "    </tr>\n",
       "  </thead>\n",
       "  <tbody>\n",
       "    <tr>\n",
       "      <th>0</th>\n",
       "      <td>0.933175</td>\n",
       "      <td>0.887619</td>\n",
       "      <td>4</td>\n",
       "    </tr>\n",
       "  </tbody>\n",
       "</table>\n",
       "</div>"
      ],
      "text/plain": [
       "   Précision moyenne après ACP  Précision moyenne sans ACP  \\\n",
       "0                     0.933175                    0.887619   \n",
       "\n",
       "   Nombre de composantes  \n",
       "0                      4  "
      ]
     },
     "execution_count": 13,
     "metadata": {},
     "output_type": "execute_result"
    }
   ],
   "source": [
    "# Plutôt que de renseigner le nombre de composantes \n",
    "# on renseigne la valeur minimum de la variance \n",
    "# expliquée totale que l'on souhaite\n",
    "pca=PCA(0.70) \n",
    "wine_pca = pca.fit_transform(values_cr)\n",
    "\n",
    "# On entraîne notre modèle et on l'évalue avec une \n",
    "# méthode de validation croisée \n",
    "from sklearn.model_selection import cross_val_score\n",
    "from sklearn.tree import DecisionTreeClassifier\n",
    "clf = DecisionTreeClassifier(random_state=0)\n",
    "mean_pca = cross_val_score(clf, wine_pca, target, cv=5).mean()\n",
    "mean_all = cross_val_score(clf, values, target, cv=5).mean()\n",
    "\n",
    "pd.DataFrame({\"Précision moyenne après ACP\" : [mean_pca], \n",
    "              \"Précision moyenne sans ACP\" : [mean_all], \n",
    "              \"Nombre de composantes\" : [wine_pca.shape[1]]})"
   ]
  },
  {
   "cell_type": "code",
   "execution_count": null,
   "id": "b9b56ee2",
   "metadata": {},
   "outputs": [],
   "source": []
  }
 ],
 "metadata": {
  "kernelspec": {
   "display_name": "Python 3 (ipykernel)",
   "language": "python",
   "name": "python3"
  },
  "language_info": {
   "codemirror_mode": {
    "name": "ipython",
    "version": 3
   },
   "file_extension": ".py",
   "mimetype": "text/x-python",
   "name": "python",
   "nbconvert_exporter": "python",
   "pygments_lexer": "ipython3",
   "version": "3.9.13"
  }
 },
 "nbformat": 4,
 "nbformat_minor": 5
}
