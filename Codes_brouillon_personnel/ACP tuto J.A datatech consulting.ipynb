{
 "cells": [
  {
   "cell_type": "code",
   "execution_count": 2,
   "id": "489614f6",
   "metadata": {},
   "outputs": [],
   "source": [
    "import pandas as pd\n",
    "import numpy as np\n",
    "from scipy.stats import pearsonr #pour calculer le coefficient de corrélation\n",
    "import matplotlib.pyplot as plt\n",
    "from sklearn.decomposition import PCA\n",
    "from sklearn.preprocessing import StandardScaler #pour standardiser les données"
   ]
  },
  {
   "cell_type": "code",
   "execution_count": 7,
   "id": "7df8b516",
   "metadata": {
    "scrolled": true
   },
   "outputs": [
    {
     "data": {
      "text/html": [
       "<div>\n",
       "<style scoped>\n",
       "    .dataframe tbody tr th:only-of-type {\n",
       "        vertical-align: middle;\n",
       "    }\n",
       "\n",
       "    .dataframe tbody tr th {\n",
       "        vertical-align: top;\n",
       "    }\n",
       "\n",
       "    .dataframe thead th {\n",
       "        text-align: right;\n",
       "    }\n",
       "</style>\n",
       "<table border=\"1\" class=\"dataframe\">\n",
       "  <thead>\n",
       "    <tr style=\"text-align: right;\">\n",
       "      <th></th>\n",
       "      <th>largeur</th>\n",
       "      <th>longueur</th>\n",
       "    </tr>\n",
       "  </thead>\n",
       "  <tbody>\n",
       "    <tr>\n",
       "      <th>0</th>\n",
       "      <td>3.312</td>\n",
       "      <td>5.763</td>\n",
       "    </tr>\n",
       "    <tr>\n",
       "      <th>1</th>\n",
       "      <td>3.333</td>\n",
       "      <td>5.554</td>\n",
       "    </tr>\n",
       "    <tr>\n",
       "      <th>2</th>\n",
       "      <td>3.337</td>\n",
       "      <td>5.291</td>\n",
       "    </tr>\n",
       "    <tr>\n",
       "      <th>3</th>\n",
       "      <td>3.379</td>\n",
       "      <td>5.324</td>\n",
       "    </tr>\n",
       "    <tr>\n",
       "      <th>4</th>\n",
       "      <td>3.562</td>\n",
       "      <td>5.658</td>\n",
       "    </tr>\n",
       "    <tr>\n",
       "      <th>...</th>\n",
       "      <td>...</td>\n",
       "      <td>...</td>\n",
       "    </tr>\n",
       "    <tr>\n",
       "      <th>205</th>\n",
       "      <td>2.981</td>\n",
       "      <td>5.137</td>\n",
       "    </tr>\n",
       "    <tr>\n",
       "      <th>206</th>\n",
       "      <td>2.795</td>\n",
       "      <td>5.140</td>\n",
       "    </tr>\n",
       "    <tr>\n",
       "      <th>207</th>\n",
       "      <td>3.232</td>\n",
       "      <td>5.236</td>\n",
       "    </tr>\n",
       "    <tr>\n",
       "      <th>208</th>\n",
       "      <td>2.836</td>\n",
       "      <td>5.175</td>\n",
       "    </tr>\n",
       "    <tr>\n",
       "      <th>209</th>\n",
       "      <td>2.974</td>\n",
       "      <td>5.243</td>\n",
       "    </tr>\n",
       "  </tbody>\n",
       "</table>\n",
       "<p>210 rows × 2 columns</p>\n",
       "</div>"
      ],
      "text/plain": [
       "     largeur  longueur\n",
       "0      3.312     5.763\n",
       "1      3.333     5.554\n",
       "2      3.337     5.291\n",
       "3      3.379     5.324\n",
       "4      3.562     5.658\n",
       "..       ...       ...\n",
       "205    2.981     5.137\n",
       "206    2.795     5.140\n",
       "207    3.232     5.236\n",
       "208    2.836     5.175\n",
       "209    2.974     5.243\n",
       "\n",
       "[210 rows x 2 columns]"
      ]
     },
     "execution_count": 7,
     "metadata": {},
     "output_type": "execute_result"
    }
   ],
   "source": [
    "# Importation des données\n",
    "grains_file=\"C:/Users/Enzo/OneDrive/Bureau/Cours/TER_Art/Codes_brouillon_personnel/mais.csv\"\n",
    "grains_df = pd.read_csv(grains_file,header=None,names=['largeur','longueur'])\n",
    "grains_df"
   ]
  },
  {
   "cell_type": "code",
   "execution_count": 9,
   "id": "bd44546c",
   "metadata": {},
   "outputs": [
    {
     "name": "stdout",
     "output_type": "stream",
     "text": [
      "<class 'pandas.core.frame.DataFrame'>\n",
      "RangeIndex: 210 entries, 0 to 209\n",
      "Data columns (total 2 columns):\n",
      " #   Column    Non-Null Count  Dtype  \n",
      "---  ------    --------------  -----  \n",
      " 0   largeur   210 non-null    float64\n",
      " 1   longueur  210 non-null    float64\n",
      "dtypes: float64(2)\n",
      "memory usage: 3.4 KB\n"
     ]
    }
   ],
   "source": [
    "grains_df.info()"
   ]
  },
  {
   "cell_type": "markdown",
   "id": "1c1dc825",
   "metadata": {},
   "source": [
    "Calcul du cefficient de Pearson des deux variables :"
   ]
  },
  {
   "cell_type": "code",
   "execution_count": 12,
   "id": "3cf7a55e",
   "metadata": {},
   "outputs": [
    {
     "name": "stdout",
     "output_type": "stream",
     "text": [
      "0.8604149377143469 8.121332906192771e-63\n"
     ]
    }
   ],
   "source": [
    "# Création d'un tableau numpy 2D à partir de grains_df\n",
    "grains_array=grains_df.values\n",
    "l=grains_array[:,0]\n",
    "L=grains_array[:,1]\n",
    "\n",
    "# Coefficient de corrélation entr la largeur et la longueur des grains\n",
    "coef_cor,pvalue=pearsonr(l,L)\n",
    "print(coef_cor,pvalue)\n",
    "#forte corrélation positive et statistiquement significative"
   ]
  },
  {
   "cell_type": "code",
   "execution_count": 14,
   "id": "bc9b0045",
   "metadata": {},
   "outputs": [
    {
     "data": {
      "image/png": "[encoded data removed]",
      "text/plain": [
       "<Figure size 432x288 with 1 Axes>"
      ]
     },
     "metadata": {
      "needs_background": "light"
     },
     "output_type": "display_data"
    }
   ],
   "source": [
    "# Visualisation du nuage de points\n",
    "plt.scatter(l,L)\n",
    "plt.xlabel('Largeur des grains')\n",
    "plt.ylabel('Longueur des grains')\n",
    "plt.show()"
   ]
  },
  {
   "cell_type": "code",
   "execution_count": 17,
   "id": "e54eace5",
   "metadata": {},
   "outputs": [
    {
     "data": {
      "text/plain": [
       "array([[ 1.37546375e-01,  4.48701536e-02],\n",
       "       [-9.77931663e-03, -1.04853394e-01],\n",
       "       [-2.09502378e-01, -2.76013257e-01],\n",
       "       [-1.57279093e-01, -2.87226133e-01],\n",
       "       [ 2.16563481e-01, -2.14516232e-01],\n",
       "       [-1.52413159e-01, -1.96070646e-01],\n",
       "       [-5.01506254e-02, -4.21863576e-02],\n",
       "       [-1.32653965e-01, -1.66650003e-01],\n",
       "       [ 4.58374510e-01,  1.12533346e-01],\n",
       "       [ 3.53956661e-01, -2.62395364e-02],\n",
       "       [ 5.51223081e-02,  6.73928808e-02],\n",
       "       [-1.83358870e-01, -7.74647317e-02],\n",
       "       [-1.83867947e-01, -7.52873846e-02],\n",
       "       [-1.80584321e-01, -1.66510665e-02],\n",
       "       [-2.05119162e-01,  1.75694184e-02],\n",
       "       [-1.65911373e-01, -2.34590748e-01],\n",
       "       [-3.12392996e-01, -4.21318181e-01],\n",
       "       [ 8.51314987e-02, -2.61320442e-01],\n",
       "       [-1.93203059e-01, -4.30192803e-01],\n",
       "       [-4.43556277e-01, -9.60472265e-02],\n",
       "       [-6.01669339e-02,  1.18514214e-01],\n",
       "       [-1.41381057e-01,  3.22563195e-04],\n",
       "       [ 1.50648029e-01, -1.97778454e-01],\n",
       "       [-6.13453283e-01, -9.03020125e-02],\n",
       "       [ 1.14723866e-01,  1.13018030e-01],\n",
       "       [ 2.61046944e-01,  5.77271824e-03],\n",
       "       [-3.28273723e-01,  2.96505572e-02],\n",
       "       [-3.73010742e-01,  8.34891973e-02],\n",
       "       [-9.13571509e-02, -2.70198731e-02],\n",
       "       [-2.10284878e-01,  7.69858755e-02],\n",
       "       [-3.15489555e-01,  1.06582768e-01],\n",
       "       [ 1.70638550e-01, -4.34273038e-03],\n",
       "       [ 2.16400636e-02,  1.12381094e-01],\n",
       "       [-1.02891839e-01,  5.57083022e-02],\n",
       "       [ 1.08546684e-01, -2.99347942e-05],\n",
       "       [ 2.06578055e-01, -1.22699614e-01],\n",
       "       [ 2.83144391e-01, -3.17732911e-02],\n",
       "       [ 4.27722090e-01, -1.96376721e-01],\n",
       "       [ 3.99117613e-02, -5.05461242e-03],\n",
       "       [-1.52900204e-01, -1.78272815e-01],\n",
       "       [-2.81339490e-01, -1.00373201e-01],\n",
       "       [-2.77753919e-01, -9.99941473e-02],\n",
       "       [-4.14095899e-01, -2.69194811e-01],\n",
       "       [ 2.78910868e-01,  5.31212157e-02],\n",
       "       [ 9.18927033e-02, -1.88092810e-01],\n",
       "       [-2.60443134e-01, -8.17092704e-02],\n",
       "       [ 1.41627844e-01, -5.70530607e-02],\n",
       "       [ 3.06470699e-02, -1.28469221e-01],\n",
       "       [-4.35436386e-02, -7.83021121e-02],\n",
       "       [ 3.76594689e-02,  3.20792963e-02],\n",
       "       [-2.49216065e-02, -3.81247563e-02],\n",
       "       [ 1.47064622e-01, -1.05842828e-01],\n",
       "       [-2.65525026e-02,  1.67248904e-01],\n",
       "       [-1.33874924e-01, -3.37458674e-02],\n",
       "       [-6.55529344e-03,  1.83865510e-01],\n",
       "       [ 2.67198190e-02,  8.27973805e-02],\n",
       "       [-1.09333394e-01, -2.44785469e-01],\n",
       "       [-9.00413789e-02, -2.74261190e-01],\n",
       "       [ 1.28248637e-01, -1.01975180e-01],\n",
       "       [-5.05952251e-01, -1.25791846e-01],\n",
       "       [-7.38406138e-01, -8.23155216e-02],\n",
       "       [-8.01399314e-01, -1.72364729e-01],\n",
       "       [-5.63398494e-01, -1.86528402e-01],\n",
       "       [-3.00153312e-01, -4.19087375e-03],\n",
       "       [-4.30567140e-01, -5.53497781e-02],\n",
       "       [-4.65732997e-01, -2.05487590e-01],\n",
       "       [-4.27172738e-02,  5.37028769e-02],\n",
       "       [-7.93200743e-02,  6.48937211e-02],\n",
       "       [-1.13280513e-01,  4.31753276e-02],\n",
       "       [-4.07229063e-01,  1.51269036e-01],\n",
       "       [ 6.25867169e-01,  1.26893333e-01],\n",
       "       [ 4.28215627e-01,  6.27694858e-02],\n",
       "       [ 4.83134187e-01, -3.46160968e-02],\n",
       "       [ 8.33237600e-01, -1.80559923e-01],\n",
       "       [ 4.44107172e-01,  7.33741440e-02],\n",
       "       [ 3.44209251e-01,  5.27730448e-02],\n",
       "       [ 4.27210651e-01,  1.67249101e-01],\n",
       "       [ 1.08597943e+00,  1.80276008e-01],\n",
       "       [ 8.71074341e-01,  2.29233173e-01],\n",
       "       [ 3.66791581e-01, -9.48854747e-02],\n",
       "       [ 3.22748740e-01, -2.76474843e-03],\n",
       "       [ 6.72753013e-01, -2.19000752e-01],\n",
       "       [ 8.91812152e-01, -4.60756417e-02],\n",
       "       [ 9.09158147e-01,  8.79546402e-02],\n",
       "       [ 9.13847833e-01,  5.41462559e-02],\n",
       "       [ 6.69541971e-01,  4.61684193e-02],\n",
       "       [ 6.73308316e-01, -9.76224519e-02],\n",
       "       [ 9.70875286e-01,  2.71856774e-01],\n",
       "       [ 1.22132764e+00,  8.00337492e-03],\n",
       "       [ 1.12608636e+00, -6.98368343e-02],\n",
       "       [ 1.06898377e+00,  2.03858788e-01],\n",
       "       [ 7.61442386e-01, -6.59935783e-02],\n",
       "       [ 7.72527402e-01,  7.71361615e-02],\n",
       "       [ 6.98513140e-01, -2.01496014e-01],\n",
       "       [ 9.42629178e-01,  4.88919339e-01],\n",
       "       [ 5.23240925e-01,  1.69034215e-01],\n",
       "       [ 9.00371650e-01,  3.12466384e-02],\n",
       "       [ 8.18549112e-01,  2.98703312e-01],\n",
       "       [ 6.56081130e-01,  2.15708402e-01],\n",
       "       [ 7.26011958e-01,  5.01859583e-02],\n",
       "       [ 2.39064177e-01, -1.47712649e-01],\n",
       "       [ 4.79361352e-01, -1.67769263e-01],\n",
       "       [ 7.77417729e-01, -1.77536343e-01],\n",
       "       [ 8.39463171e-01,  1.48358368e-01],\n",
       "       [ 7.93692656e-01,  1.41121025e-02],\n",
       "       [ 6.51219720e-01, -1.44580880e-01],\n",
       "       [ 7.52450920e-01, -8.64668179e-02],\n",
       "       [ 5.12014870e-01,  1.66860098e-02],\n",
       "       [ 1.12722116e+00,  2.80854928e-01],\n",
       "       [ 6.68858809e-01,  1.56965751e-02],\n",
       "       [ 6.94193656e-01, -8.67687629e-02],\n",
       "       [ 8.59002054e-01,  2.15741735e-02],\n",
       "       [ 8.37647372e-01, -1.40490559e-01],\n",
       "       [ 7.90649209e-01,  3.49864271e-02],\n",
       "       [ 1.18679420e+00,  3.39155563e-02],\n",
       "       [ 8.99897783e-01,  1.49169390e-01],\n",
       "       [ 7.32927578e-01, -2.21006177e-01],\n",
       "       [ 8.29731302e-01, -3.39526042e-02],\n",
       "       [ 7.86488468e-01, -1.00767311e-02],\n",
       "       [ 1.04731612e+00,  9.22410775e-02],\n",
       "       [ 9.77517681e-01, -1.02276730e-01],\n",
       "       [ 5.25621077e-01,  4.09938510e-02],\n",
       "       [ 1.84709771e-01, -1.34532039e-02],\n",
       "       [ 5.97793181e-01, -1.69472743e-01],\n",
       "       [ 2.45407414e-03, -4.18433279e-01],\n",
       "       [ 7.61180176e-01, -1.61124705e-01],\n",
       "       [ 7.19255080e-01,  1.61587685e-01],\n",
       "       [ 5.43339635e-01, -1.05505476e-01],\n",
       "       [ 1.00901417e+00,  1.69629451e-01],\n",
       "       [ 4.00661731e-01, -2.27963696e-01],\n",
       "       [ 5.86798453e-01, -1.57805869e-01],\n",
       "       [ 7.58440838e-01, -1.06192965e-01],\n",
       "       [ 2.02489898e-01,  1.56042717e-01],\n",
       "       [ 2.53659818e-01,  3.34391306e-02],\n",
       "       [ 2.08898605e-01, -2.06573923e-02],\n",
       "       [ 1.53594142e-02, -2.55588407e-01],\n",
       "       [ 5.98795795e-01,  8.74961161e-02],\n",
       "       [ 2.06531632e-01,  2.07507893e-01],\n",
       "       [ 1.73999285e-01,  1.08965281e-01],\n",
       "       [ 3.23636871e-01, -8.52766638e-03],\n",
       "       [-2.89502428e-01,  1.03473227e-01],\n",
       "       [-1.85943990e-01,  8.68103947e-02],\n",
       "       [-3.02211651e-01, -1.11019691e-02],\n",
       "       [-4.97500746e-01, -3.42573057e-02],\n",
       "       [-5.49708687e-01,  1.69395170e-01],\n",
       "       [-6.34147031e-01,  2.16247769e-01],\n",
       "       [-6.92915536e-01,  1.25808492e-01],\n",
       "       [-4.64428438e-01, -6.77599433e-03],\n",
       "       [-4.08692365e-01,  1.12347849e-01],\n",
       "       [-6.29845251e-01,  2.70529393e-01],\n",
       "       [-5.48670666e-01,  8.83462803e-02],\n",
       "       [-4.80357555e-01,  2.28322417e-01],\n",
       "       [-4.41621470e-01,  1.86399683e-01],\n",
       "       [-6.75690712e-01,  1.73926113e-01],\n",
       "       [-6.70677050e-01,  9.74809485e-02],\n",
       "       [-6.64120814e-01,  2.06943343e-01],\n",
       "       [-7.04434684e-01, -5.27868863e-02],\n",
       "       [-5.08630021e-01,  2.45135141e-01],\n",
       "       [-5.12993568e-01,  3.28621424e-01],\n",
       "       [-6.09806143e-01,  2.26072289e-01],\n",
       "       [-3.79150550e-01,  1.78501316e-01],\n",
       "       [-5.00929935e-01,  1.67021706e-01],\n",
       "       [-5.41120470e-01,  8.55188173e-02],\n",
       "       [-4.13027191e-01,  3.46354997e-02],\n",
       "       [-7.71888382e-01, -3.73273087e-02],\n",
       "       [-6.05643041e-01, -9.03130281e-02],\n",
       "       [-4.69171038e-01,  8.02958596e-02],\n",
       "       [-4.32142958e-01,  1.89075091e-01],\n",
       "       [-7.25509650e-01,  1.65033787e-01],\n",
       "       [-7.61616552e-01,  7.39223632e-02],\n",
       "       [-5.89819950e-01,  2.34878654e-01],\n",
       "       [-6.19311014e-01,  2.31470377e-02],\n",
       "       [-7.32477986e-01,  3.57262380e-02],\n",
       "       [-6.95560062e-01,  6.64030508e-02],\n",
       "       [-6.64314767e-01,  2.50988347e-01],\n",
       "       [-7.77706378e-01, -7.72666493e-02],\n",
       "       [-6.90976204e-01,  1.39121606e-01],\n",
       "       [-7.65969083e-01,  1.65218888e-01],\n",
       "       [-6.64914132e-01,  9.83690796e-02],\n",
       "       [-4.42500749e-01,  1.07658163e-01],\n",
       "       [-7.23270536e-01,  2.77749574e-02],\n",
       "       [-4.56316251e-01, -6.50442741e-02],\n",
       "       [-5.22262586e-01,  2.05774575e-02],\n",
       "       [-6.61493795e-01, -1.84054951e-02],\n",
       "       [-2.51361380e-01,  9.35605837e-02],\n",
       "       [-5.72097064e-01,  2.73008685e-01],\n",
       "       [-5.12550584e-01,  2.79582625e-01],\n",
       "       [-7.88718810e-01,  1.03409100e-01],\n",
       "       [-6.94641047e-01, -8.24382066e-03],\n",
       "       [-8.62503908e-01, -1.03522674e-01],\n",
       "       [-7.94179783e-01,  4.42637047e-02],\n",
       "       [-7.03967505e-01,  6.10947819e-03],\n",
       "       [-5.77207505e-01, -8.22868021e-02],\n",
       "       [-7.46718966e-01,  1.96816879e-01],\n",
       "       [-4.83158462e-01, -3.27410900e-02],\n",
       "       [-4.45107703e-01, -1.97450348e-01],\n",
       "       [-4.41899023e-01, -1.01171044e-01],\n",
       "       [-3.20769754e-01, -9.67325526e-02],\n",
       "       [-3.90233402e-01,  1.27686256e-01],\n",
       "       [-4.93487534e-01, -2.75356651e-01],\n",
       "       [-4.87286157e-01, -5.43735225e-02],\n",
       "       [-5.74721524e-01, -3.16854106e-01],\n",
       "       [-7.63201025e-01, -5.09114841e-02],\n",
       "       [-4.49786373e-01, -1.55831722e-01],\n",
       "       [-5.17356916e-01, -4.16554470e-02],\n",
       "       [-5.55467080e-01, -1.00626757e-01],\n",
       "       [-6.72032359e-01,  4.43475020e-02],\n",
       "       [-3.18909694e-01, -2.30405812e-01],\n",
       "       [-6.18909928e-01,  3.51819507e-02],\n",
       "       [-4.78413699e-01, -2.74982647e-02]])"
      ]
     },
     "execution_count": 17,
     "metadata": {},
     "output_type": "execute_result"
    }
   ],
   "source": [
    "# ACP permet de décorréler ces variables\n",
    "\n",
    "# Création d'une instance de la classe PCA\n",
    "model_acp = PCA(n_components=2) #l'argument n_components est par défault égal au nombre de variables de l'ensemble des données\n",
    "\n",
    "# Application du modèle aux données\n",
    "grains_acp = model_acp.fit_transform(grains_array) #ACP + standardisation\n",
    "grains_acp"
   ]
  },
  {
   "cell_type": "code",
   "execution_count": 18,
   "id": "21c1526c",
   "metadata": {},
   "outputs": [],
   "source": [
    "# Composantes principales\n",
    "comp1=grains_acp[:,0]\n",
    "comp2=grains_acp[:,1]"
   ]
  },
  {
   "cell_type": "code",
   "execution_count": 20,
   "id": "926d4466",
   "metadata": {},
   "outputs": [
    {
     "name": "stdout",
     "output_type": "stream",
     "text": [
      "-4.163336342344337e-17 0.999999999999971\n"
     ]
    }
   ],
   "source": [
    "# Calcul du cefficient de Pearson entre les composantes :\n",
    "coef_cor_comp,pvalue_comp=pearsonr(comp1,comp2)\n",
    "print(coef_cor_comp,pvalue_comp)\n",
    "#pas de corrélation linéaire"
   ]
  },
  {
   "cell_type": "code",
   "execution_count": 21,
   "id": "b1bce750",
   "metadata": {},
   "outputs": [
    {
     "data": {
      "image/png": "[encoded data removed]",
      "text/plain": [
       "<Figure size 432x288 with 1 Axes>"
      ]
     },
     "metadata": {
      "needs_background": "light"
     },
     "output_type": "display_data"
    }
   ],
   "source": [
    "# Visualisation du nuage de points \n",
    "plt.scatter(comp1,comp2)\n",
    "plt.xlabel('Première composante')\n",
    "plt.ylabel('Deuxième composante')\n",
    "plt.show()"
   ]
  },
  {
   "cell_type": "code",
   "execution_count": 26,
   "id": "18857c94",
   "metadata": {},
   "outputs": [
    {
     "data": {
      "text/plain": [
       "array([0.31595462, 0.02301882])"
      ]
     },
     "execution_count": 26,
     "metadata": {},
     "output_type": "execute_result"
    }
   ],
   "source": [
    "# Attribut du modèle PCA pour retrouver la quantité de variance expliquée par chaque composante\n",
    "model_acp.explained_variance_"
   ]
  },
  {
   "cell_type": "code",
   "execution_count": 25,
   "id": "6bba68fa",
   "metadata": {},
   "outputs": [
    {
     "data": {
      "text/plain": [
       "array([0.93209254, 0.06790746])"
      ]
     },
     "execution_count": 25,
     "metadata": {},
     "output_type": "execute_result"
    }
   ],
   "source": [
    "# En pourcentage\n",
    "model_acp.explained_variance_ratio_"
   ]
  },
  {
   "cell_type": "code",
   "execution_count": 27,
   "id": "02b70bef",
   "metadata": {},
   "outputs": [
    {
     "data": {
      "text/plain": [
       "array([0.93209254, 1.        ])"
      ]
     },
     "execution_count": 27,
     "metadata": {},
     "output_type": "execute_result"
    }
   ],
   "source": [
    "# Cumulé\n",
    "model_acp.explained_variance_ratio_.cumsum()"
   ]
  },
  {
   "cell_type": "code",
   "execution_count": 28,
   "id": "d237abde",
   "metadata": {},
   "outputs": [
    {
     "data": {
      "text/plain": [
       "2"
      ]
     },
     "execution_count": 28,
     "metadata": {},
     "output_type": "execute_result"
    }
   ],
   "source": [
    "#\n",
    "model_acp.n_components_"
   ]
  },
  {
   "cell_type": "code",
   "execution_count": 31,
   "id": "fd6ace91",
   "metadata": {},
   "outputs": [
    {
     "data": {
      "text/plain": [
       "<function matplotlib.pyplot.show(close=None, block=None)>"
      ]
     },
     "execution_count": 31,
     "metadata": {},
     "output_type": "execute_result"
    },
    {
     "data": {
      "image/png": "[encoded data removed]",
      "text/plain": [
       "<Figure size 432x288 with 1 Axes>"
      ]
     },
     "metadata": {
      "needs_background": "light"
     },
     "output_type": "display_data"
    }
   ],
   "source": [
    "plt.bar(range(model_acp.n_components_),model_acp.explained_variance_ratio_)\n",
    "plt.xlabel('Composantes principales')\n",
    "plt.ylabel('Pourcentage de variance expliqué')\n",
    "#plt.xticks(range(model_acp.n_components_))\n",
    "plt.show"
   ]
  },
  {
   "cell_type": "code",
   "execution_count": 32,
   "id": "9e50b6b4",
   "metadata": {},
   "outputs": [
    {
     "data": {
      "text/plain": [
       "<function matplotlib.pyplot.show(close=None, block=None)>"
      ]
     },
     "execution_count": 32,
     "metadata": {},
     "output_type": "execute_result"
    },
    {
     "data": {
      "image/png": "[encoded data removed]",
      "text/plain": [
       "<Figure size 432x288 with 1 Axes>"
      ]
     },
     "metadata": {
      "needs_background": "light"
     },
     "output_type": "display_data"
    }
   ],
   "source": [
    "plt.bar(range(model_acp.n_components_),model_acp.explained_variance_ratio_)\n",
    "plt.xlabel('Composantes principales')\n",
    "plt.ylabel('Pourcentage de variance expliqué')\n",
    "plt.xticks(range(model_acp.n_components_)) #adapte l'échelle de l'axe des abscisses au nomdre de composante\n",
    "plt.show"
   ]
  },
  {
   "cell_type": "code",
   "execution_count": 33,
   "id": "d1ddc3dd",
   "metadata": {},
   "outputs": [
    {
     "data": {
      "text/plain": [
       "array([[ 0.63910027,  0.76912343],\n",
       "       [-0.76912343,  0.63910027]])"
      ]
     },
     "execution_count": 33,
     "metadata": {},
     "output_type": "execute_result"
    }
   ],
   "source": [
    "# Attribut pour retrouver les composants principaux au niveau de chaque axe\n",
    "model_acp.components_\n",
    "#Ce tableau nous indique dans quelle mesure le vecteur de chaque composante principale est affectée par chaque variable originelle "
   ]
  },
  {
   "cell_type": "code",
   "execution_count": null,
   "id": "2025caaf",
   "metadata": {},
   "outputs": [],
   "source": []
  }
 ],
 "metadata": {
  "kernelspec": {
   "display_name": "Python 3 (ipykernel)",
   "language": "python",
   "name": "python3"
  },
  "language_info": {
   "codemirror_mode": {
    "name": "ipython",
    "version": 3
   },
   "file_extension": ".py",
   "mimetype": "text/x-python",
   "name": "python",
   "nbconvert_exporter": "python",
   "pygments_lexer": "ipython3",
   "version": "3.9.12"
  }
 },
 "nbformat": 4,
 "nbformat_minor": 5
}
