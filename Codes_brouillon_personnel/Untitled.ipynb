{
 "cells": [
  {
   "cell_type": "code",
   "execution_count": 2,
   "id": "42648823",
   "metadata": {},
   "outputs": [
    {
     "name": "stderr",
     "output_type": "stream",
     "text": [
      "BokehUserWarning: ColumnDataSource's columns must be of the same length. Current lengths: ('x', 11), ('y', 12)\n"
     ]
    }
   ],
   "source": [
    "from bokeh.plotting import figure\n",
    "from bokeh.models import Range1d\n",
    "from bokeh.embed import components\n",
    "\n",
    "# create some data\n",
    "x1 = [0, 1, 2, 3, 4, 5, 6, 7, 8, 9, 10]\n",
    "y1 = [0, 8, 2, 4, 6, 9, 5, 6, 25, 28, 4, 7]\n",
    "x2 = [2, 5, 7, 15, 18, 19, 25, 28, 9, 10, 4]\n",
    "y2 = [2, 4, 6, 9, 15, 18, 0, 8, 2, 25, 28]\n",
    "x3 = [0, 1, 0, 8, 2, 4, 6, 9, 7, 8, 9]\n",
    "y3 = [0, 8, 4, 6, 9, 15, 18, 19, 19, 25, 28]\n",
    "\n",
    "# select the tools you want\n",
    "TOOLS=\"pan,wheel_zoom,box_zoom,reset,save\"\n",
    "\n",
    "# the red and blue graphs share this data range\n",
    "xr1 = Range1d(start=0, end=30)\n",
    "yr1 = Range1d(start=0, end=30)\n",
    "\n",
    "# only the green graph uses this data range\n",
    "xr2 = Range1d(start=0, end=30)\n",
    "yr2 = Range1d(start=0, end=30)\n",
    "\n",
    "# build the figures\n",
    "p1 = figure(x_range=xr1, y_range=yr1, tools=TOOLS, width=300, height=300)\n",
    "p1.scatter(x1, y1, size=12, color=\"red\", alpha=0.5)\n",
    "\n",
    "p2 = figure(x_range=xr1, y_range=yr1, tools=TOOLS, width=300, height=300)\n",
    "p2.scatter(x2, y2, size=12, color=\"blue\", alpha=0.5)\n",
    "\n",
    "p3 = figure(x_range=xr2, y_range=yr2, tools=TOOLS, width=300, height=300)\n",
    "p3.scatter(x3, y3, size=12, color=\"green\", alpha=0.5)\n",
    "\n",
    "# plots can be a single Bokeh model, a list/tuple, or even a dictionary\n",
    "plots = {'Red': p1, 'Blue': p2, 'Green': p3}\n",
    "\n",
    "script, div = components(plots)"
   ]
  },
  {
   "cell_type": "code",
   "execution_count": 3,
   "id": "96a4f89d",
   "metadata": {},
   "outputs": [
    {
     "name": "stdout",
     "output_type": "stream",
     "text": [
      "    <script type=\"text/javascript\">\n",
      "        (function() {\n",
      "  const fn = function() {\n",
      "    Bokeh.safely(function() {\n",
      "      (function(root) {\n",
      "        function embed_document(root) {\n",
      "        const docs_json = '{\"f570d245-9fed-4b43-aff7-fab5c972f8be\":{\"defs\":[],\"roots\":{\"references\":[{\"attributes\":{\"coordinates\":null,\"formatter\":{\"id\":\"1398\"},\"group\":null,\"major_label_policy\":{\"id\":\"1399\"},\"ticker\":{\"id\":\"1319\"}},\"id\":\"1318\",\"type\":\"LinearAxis\"},{\"attributes\":{\"coordinates\":null,\"group\":null},\"id\":\"1395\",\"type\":\"Title\"},{\"attributes\":{\"end\":30},\"id\":\"1273\",\"type\":\"Range1d\"},{\"attributes\":{\"end\":30},\"id\":\"1270\",\"type\":\"Range1d\"},{\"attributes\":{\"below\":[{\"id\":\"1281\"}],\"center\":[{\"id\":\"1284\"},{\"id\":\"1288\"}],\"height\":300,\"left\":[{\"id\":\"1285\"}],\"renderers\":[{\"id\":\"1305\"}],\"title\":{\"id\":\"1373\"},\"toolbar\":{\"id\":\"1295\"},\"width\":300,\"x_range\":{\"id\":\"1270\"},\"x_scale\":{\"id\":\"1277\"},\"y_range\":{\"id\":\"1271\"},\"y_scale\":{\"id\":\"1279\"}},\"id\":\"1274\",\"subtype\":\"Figure\",\"type\":\"Plot\"},{\"attributes\":{\"below\":[{\"id\":\"1347\"}],\"center\":[{\"id\":\"1350\"},{\"id\":\"1354\"}],\"height\":300,\"left\":[{\"id\":\"1351\"}],\"renderers\":[{\"id\":\"1371\"}],\"title\":{\"id\":\"1428\"},\"toolbar\":{\"id\":\"1361\"},\"width\":300,\"x_range\":{\"id\":\"1272\"},\"x_scale\":{\"id\":\"1343\"},\"y_range\":{\"id\":\"1273\"},\"y_scale\":{\"id\":\"1345\"}},\"id\":\"1340\",\"subtype\":\"Figure\",\"type\":\"Plot\"},{\"attributes\":{},\"id\":\"1348\",\"type\":\"BasicTicker\"},{\"attributes\":{},\"id\":\"1282\",\"type\":\"BasicTicker\"},{\"attributes\":{},\"id\":\"1379\",\"type\":\"BasicTickFormatter\"},{\"attributes\":{\"end\":30},\"id\":\"1272\",\"type\":\"Range1d\"},{\"attributes\":{\"coordinates\":null,\"formatter\":{\"id\":\"1376\"},\"group\":null,\"major_label_policy\":{\"id\":\"1377\"},\"ticker\":{\"id\":\"1286\"}},\"id\":\"1285\",\"type\":\"LinearAxis\"},{\"attributes\":{\"fill_alpha\":{\"value\":0.5},\"fill_color\":{\"value\":\"red\"},\"hatch_alpha\":{\"value\":0.5},\"hatch_color\":{\"value\":\"red\"},\"line_alpha\":{\"value\":0.5},\"line_color\":{\"value\":\"red\"},\"size\":{\"value\":12},\"x\":{\"field\":\"x\"},\"y\":{\"field\":\"y\"}},\"id\":\"1302\",\"type\":\"Scatter\"},{\"attributes\":{\"below\":[{\"id\":\"1314\"}],\"center\":[{\"id\":\"1317\"},{\"id\":\"1321\"}],\"height\":300,\"left\":[{\"id\":\"1318\"}],\"renderers\":[{\"id\":\"1338\"}],\"title\":{\"id\":\"1395\"},\"toolbar\":{\"id\":\"1328\"},\"width\":300,\"x_range\":{\"id\":\"1270\"},\"x_scale\":{\"id\":\"1310\"},\"y_range\":{\"id\":\"1271\"},\"y_scale\":{\"id\":\"1312\"}},\"id\":\"1307\",\"subtype\":\"Figure\",\"type\":\"Plot\"},{\"attributes\":{},\"id\":\"1325\",\"type\":\"ResetTool\"},{\"attributes\":{\"data\":{\"x\":[0,1,2,3,4,5,6,7,8,9,10],\"y\":[0,8,2,4,6,9,5,6,25,28,4,7]},\"selected\":{\"id\":\"1382\"},\"selection_policy\":{\"id\":\"1381\"}},\"id\":\"1301\",\"type\":\"ColumnDataSource\"},{\"attributes\":{},\"id\":\"1326\",\"type\":\"SaveTool\"},{\"attributes\":{},\"id\":\"1277\",\"type\":\"LinearScale\"},{\"attributes\":{\"overlay\":{\"id\":\"1327\"}},\"id\":\"1324\",\"type\":\"BoxZoomTool\"},{\"attributes\":{\"axis\":{\"id\":\"1281\"},\"coordinates\":null,\"group\":null,\"ticker\":null},\"id\":\"1284\",\"type\":\"Grid\"},{\"attributes\":{},\"id\":\"1279\",\"type\":\"LinearScale\"},{\"attributes\":{\"coordinates\":null,\"group\":null},\"id\":\"1373\",\"type\":\"Title\"},{\"attributes\":{\"source\":{\"id\":\"1367\"}},\"id\":\"1372\",\"type\":\"CDSView\"},{\"attributes\":{\"coordinates\":null,\"formatter\":{\"id\":\"1379\"},\"group\":null,\"major_label_policy\":{\"id\":\"1380\"},\"ticker\":{\"id\":\"1282\"}},\"id\":\"1281\",\"type\":\"LinearAxis\"},{\"attributes\":{\"coordinates\":null,\"formatter\":{\"id\":\"1401\"},\"group\":null,\"major_label_policy\":{\"id\":\"1402\"},\"ticker\":{\"id\":\"1315\"}},\"id\":\"1314\",\"type\":\"LinearAxis\"},{\"attributes\":{\"coordinates\":null,\"group\":null},\"id\":\"1428\",\"type\":\"Title\"},{\"attributes\":{},\"id\":\"1359\",\"type\":\"SaveTool\"},{\"attributes\":{\"bottom_units\":\"screen\",\"coordinates\":null,\"fill_alpha\":0.5,\"fill_color\":\"lightgrey\",\"group\":null,\"left_units\":\"screen\",\"level\":\"overlay\",\"line_alpha\":1.0,\"line_color\":\"black\",\"line_dash\":[4,4],\"line_width\":2,\"right_units\":\"screen\",\"syncable\":false,\"top_units\":\"screen\"},\"id\":\"1327\",\"type\":\"BoxAnnotation\"},{\"attributes\":{\"axis\":{\"id\":\"1285\"},\"coordinates\":null,\"dimension\":1,\"group\":null,\"ticker\":null},\"id\":\"1288\",\"type\":\"Grid\"},{\"attributes\":{},\"id\":\"1377\",\"type\":\"AllLabels\"},{\"attributes\":{},\"id\":\"1286\",\"type\":\"BasicTicker\"},{\"attributes\":{\"fill_alpha\":{\"value\":0.1},\"fill_color\":{\"value\":\"blue\"},\"hatch_alpha\":{\"value\":0.1},\"hatch_color\":{\"value\":\"blue\"},\"line_alpha\":{\"value\":0.1},\"line_color\":{\"value\":\"blue\"},\"size\":{\"value\":12},\"x\":{\"field\":\"x\"},\"y\":{\"field\":\"y\"}},\"id\":\"1336\",\"type\":\"Scatter\"},{\"attributes\":{\"fill_alpha\":{\"value\":0.1},\"fill_color\":{\"value\":\"red\"},\"hatch_alpha\":{\"value\":0.1},\"hatch_color\":{\"value\":\"red\"},\"line_alpha\":{\"value\":0.1},\"line_color\":{\"value\":\"red\"},\"size\":{\"value\":12},\"x\":{\"field\":\"x\"},\"y\":{\"field\":\"y\"}},\"id\":\"1303\",\"type\":\"Scatter\"},{\"attributes\":{\"bottom_units\":\"screen\",\"coordinates\":null,\"fill_alpha\":0.5,\"fill_color\":\"lightgrey\",\"group\":null,\"left_units\":\"screen\",\"level\":\"overlay\",\"line_alpha\":1.0,\"line_color\":\"black\",\"line_dash\":[4,4],\"line_width\":2,\"right_units\":\"screen\",\"syncable\":false,\"top_units\":\"screen\"},\"id\":\"1360\",\"type\":\"BoxAnnotation\"},{\"attributes\":{\"bottom_units\":\"screen\",\"coordinates\":null,\"fill_alpha\":0.5,\"fill_color\":\"lightgrey\",\"group\":null,\"left_units\":\"screen\",\"level\":\"overlay\",\"line_alpha\":1.0,\"line_color\":\"black\",\"line_dash\":[4,4],\"line_width\":2,\"right_units\":\"screen\",\"syncable\":false,\"top_units\":\"screen\"},\"id\":\"1294\",\"type\":\"BoxAnnotation\"},{\"attributes\":{},\"id\":\"1290\",\"type\":\"WheelZoomTool\"},{\"attributes\":{},\"id\":\"1376\",\"type\":\"BasicTickFormatter\"},{\"attributes\":{\"fill_alpha\":{\"value\":0.2},\"fill_color\":{\"value\":\"green\"},\"hatch_alpha\":{\"value\":0.2},\"hatch_color\":{\"value\":\"green\"},\"line_alpha\":{\"value\":0.2},\"line_color\":{\"value\":\"green\"},\"size\":{\"value\":12},\"x\":{\"field\":\"x\"},\"y\":{\"field\":\"y\"}},\"id\":\"1370\",\"type\":\"Scatter\"},{\"attributes\":{},\"id\":\"1289\",\"type\":\"PanTool\"},{\"attributes\":{\"overlay\":{\"id\":\"1294\"}},\"id\":\"1291\",\"type\":\"BoxZoomTool\"},{\"attributes\":{\"source\":{\"id\":\"1334\"}},\"id\":\"1339\",\"type\":\"CDSView\"},{\"attributes\":{},\"id\":\"1292\",\"type\":\"ResetTool\"},{\"attributes\":{},\"id\":\"1293\",\"type\":\"SaveTool\"},{\"attributes\":{},\"id\":\"1398\",\"type\":\"BasicTickFormatter\"},{\"attributes\":{},\"id\":\"1355\",\"type\":\"PanTool\"},{\"attributes\":{\"coordinates\":null,\"data_source\":{\"id\":\"1301\"},\"glyph\":{\"id\":\"1302\"},\"group\":null,\"hover_glyph\":null,\"muted_glyph\":{\"id\":\"1304\"},\"nonselection_glyph\":{\"id\":\"1303\"},\"view\":{\"id\":\"1306\"}},\"id\":\"1305\",\"type\":\"GlyphRenderer\"},{\"attributes\":{\"end\":30},\"id\":\"1271\",\"type\":\"Range1d\"},{\"attributes\":{},\"id\":\"1399\",\"type\":\"AllLabels\"},{\"attributes\":{\"coordinates\":null,\"data_source\":{\"id\":\"1367\"},\"glyph\":{\"id\":\"1368\"},\"group\":null,\"hover_glyph\":null,\"muted_glyph\":{\"id\":\"1370\"},\"nonselection_glyph\":{\"id\":\"1369\"},\"view\":{\"id\":\"1372\"}},\"id\":\"1371\",\"type\":\"GlyphRenderer\"},{\"attributes\":{},\"id\":\"1322\",\"type\":\"PanTool\"},{\"attributes\":{\"fill_alpha\":{\"value\":0.5},\"fill_color\":{\"value\":\"green\"},\"hatch_alpha\":{\"value\":0.5},\"hatch_color\":{\"value\":\"green\"},\"line_alpha\":{\"value\":0.5},\"line_color\":{\"value\":\"green\"},\"size\":{\"value\":12},\"x\":{\"field\":\"x\"},\"y\":{\"field\":\"y\"}},\"id\":\"1368\",\"type\":\"Scatter\"},{\"attributes\":{},\"id\":\"1310\",\"type\":\"LinearScale\"},{\"attributes\":{},\"id\":\"1401\",\"type\":\"BasicTickFormatter\"},{\"attributes\":{\"coordinates\":null,\"formatter\":{\"id\":\"1434\"},\"group\":null,\"major_label_policy\":{\"id\":\"1435\"},\"ticker\":{\"id\":\"1348\"}},\"id\":\"1347\",\"type\":\"LinearAxis\"},{\"attributes\":{},\"id\":\"1323\",\"type\":\"WheelZoomTool\"},{\"attributes\":{},\"id\":\"1312\",\"type\":\"LinearScale\"},{\"attributes\":{},\"id\":\"1402\",\"type\":\"AllLabels\"},{\"attributes\":{\"tools\":[{\"id\":\"1355\"},{\"id\":\"1356\"},{\"id\":\"1357\"},{\"id\":\"1358\"},{\"id\":\"1359\"}]},\"id\":\"1361\",\"type\":\"Toolbar\"},{\"attributes\":{},\"id\":\"1356\",\"type\":\"WheelZoomTool\"},{\"attributes\":{\"axis\":{\"id\":\"1314\"},\"coordinates\":null,\"group\":null,\"ticker\":null},\"id\":\"1317\",\"type\":\"Grid\"},{\"attributes\":{\"data\":{\"x\":[0,1,0,8,2,4,6,9,7,8,9],\"y\":[0,8,4,6,9,15,18,19,19,25,28]},\"selected\":{\"id\":\"1437\"},\"selection_policy\":{\"id\":\"1436\"}},\"id\":\"1367\",\"type\":\"ColumnDataSource\"},{\"attributes\":{\"coordinates\":null,\"data_source\":{\"id\":\"1334\"},\"glyph\":{\"id\":\"1335\"},\"group\":null,\"hover_glyph\":null,\"muted_glyph\":{\"id\":\"1337\"},\"nonselection_glyph\":{\"id\":\"1336\"},\"view\":{\"id\":\"1339\"}},\"id\":\"1338\",\"type\":\"GlyphRenderer\"},{\"attributes\":{\"fill_alpha\":{\"value\":0.5},\"fill_color\":{\"value\":\"blue\"},\"hatch_alpha\":{\"value\":0.5},\"hatch_color\":{\"value\":\"blue\"},\"line_alpha\":{\"value\":0.5},\"line_color\":{\"value\":\"blue\"},\"size\":{\"value\":12},\"x\":{\"field\":\"x\"},\"y\":{\"field\":\"y\"}},\"id\":\"1335\",\"type\":\"Scatter\"},{\"attributes\":{\"source\":{\"id\":\"1301\"}},\"id\":\"1306\",\"type\":\"CDSView\"},{\"attributes\":{},\"id\":\"1431\",\"type\":\"BasicTickFormatter\"},{\"attributes\":{},\"id\":\"1315\",\"type\":\"BasicTicker\"},{\"attributes\":{},\"id\":\"1403\",\"type\":\"UnionRenderers\"},{\"attributes\":{},\"id\":\"1432\",\"type\":\"AllLabels\"},{\"attributes\":{\"axis\":{\"id\":\"1347\"},\"coordinates\":null,\"group\":null,\"ticker\":null},\"id\":\"1350\",\"type\":\"Grid\"},{\"attributes\":{},\"id\":\"1352\",\"type\":\"BasicTicker\"},{\"attributes\":{\"fill_alpha\":{\"value\":0.2},\"fill_color\":{\"value\":\"blue\"},\"hatch_alpha\":{\"value\":0.2},\"hatch_color\":{\"value\":\"blue\"},\"line_alpha\":{\"value\":0.2},\"line_color\":{\"value\":\"blue\"},\"size\":{\"value\":12},\"x\":{\"field\":\"x\"},\"y\":{\"field\":\"y\"}},\"id\":\"1337\",\"type\":\"Scatter\"},{\"attributes\":{\"axis\":{\"id\":\"1318\"},\"coordinates\":null,\"dimension\":1,\"group\":null,\"ticker\":null},\"id\":\"1321\",\"type\":\"Grid\"},{\"attributes\":{},\"id\":\"1404\",\"type\":\"Selection\"},{\"attributes\":{},\"id\":\"1434\",\"type\":\"BasicTickFormatter\"},{\"attributes\":{},\"id\":\"1382\",\"type\":\"Selection\"},{\"attributes\":{},\"id\":\"1319\",\"type\":\"BasicTicker\"},{\"attributes\":{},\"id\":\"1435\",\"type\":\"AllLabels\"},{\"attributes\":{\"tools\":[{\"id\":\"1322\"},{\"id\":\"1323\"},{\"id\":\"1324\"},{\"id\":\"1325\"},{\"id\":\"1326\"}]},\"id\":\"1328\",\"type\":\"Toolbar\"},{\"attributes\":{\"coordinates\":null,\"formatter\":{\"id\":\"1431\"},\"group\":null,\"major_label_policy\":{\"id\":\"1432\"},\"ticker\":{\"id\":\"1352\"}},\"id\":\"1351\",\"type\":\"LinearAxis\"},{\"attributes\":{},\"id\":\"1381\",\"type\":\"UnionRenderers\"},{\"attributes\":{\"tools\":[{\"id\":\"1289\"},{\"id\":\"1290\"},{\"id\":\"1291\"},{\"id\":\"1292\"},{\"id\":\"1293\"}]},\"id\":\"1295\",\"type\":\"Toolbar\"},{\"attributes\":{\"data\":{\"x\":[2,5,7,15,18,19,25,28,9,10,4],\"y\":[2,4,6,9,15,18,0,8,2,25,28]},\"selected\":{\"id\":\"1404\"},\"selection_policy\":{\"id\":\"1403\"}},\"id\":\"1334\",\"type\":\"ColumnDataSource\"},{\"attributes\":{},\"id\":\"1436\",\"type\":\"UnionRenderers\"},{\"attributes\":{\"fill_alpha\":{\"value\":0.2},\"fill_color\":{\"value\":\"red\"},\"hatch_alpha\":{\"value\":0.2},\"hatch_color\":{\"value\":\"red\"},\"line_alpha\":{\"value\":0.2},\"line_color\":{\"value\":\"red\"},\"size\":{\"value\":12},\"x\":{\"field\":\"x\"},\"y\":{\"field\":\"y\"}},\"id\":\"1304\",\"type\":\"Scatter\"},{\"attributes\":{},\"id\":\"1437\",\"type\":\"Selection\"},{\"attributes\":{\"axis\":{\"id\":\"1351\"},\"coordinates\":null,\"dimension\":1,\"group\":null,\"ticker\":null},\"id\":\"1354\",\"type\":\"Grid\"},{\"attributes\":{},\"id\":\"1343\",\"type\":\"LinearScale\"},{\"attributes\":{\"fill_alpha\":{\"value\":0.1},\"fill_color\":{\"value\":\"green\"},\"hatch_alpha\":{\"value\":0.1},\"hatch_color\":{\"value\":\"green\"},\"line_alpha\":{\"value\":0.1},\"line_color\":{\"value\":\"green\"},\"size\":{\"value\":12},\"x\":{\"field\":\"x\"},\"y\":{\"field\":\"y\"}},\"id\":\"1369\",\"type\":\"Scatter\"},{\"attributes\":{\"overlay\":{\"id\":\"1360\"}},\"id\":\"1357\",\"type\":\"BoxZoomTool\"},{\"attributes\":{},\"id\":\"1345\",\"type\":\"LinearScale\"},{\"attributes\":{},\"id\":\"1358\",\"type\":\"ResetTool\"},{\"attributes\":{},\"id\":\"1380\",\"type\":\"AllLabels\"}],\"root_ids\":[\"1274\",\"1307\",\"1340\"]},\"title\":\"Bokeh Application\",\"version\":\"2.4.3\"}}';\n",
      "        const render_items = [{\"docid\":\"f570d245-9fed-4b43-aff7-fab5c972f8be\",\"root_ids\":[\"1274\",\"1307\",\"1340\"],\"roots\":{\"1274\":\"327e991e-2c16-4edf-ac66-2d394325b32a\",\"1307\":\"97afff1b-7f60-4eee-9652-f627b158669a\",\"1340\":\"75aef6b0-3def-42dc-b5e0-6221e02b9765\"}}];\n",
      "        root.Bokeh.embed.embed_items(docs_json, render_items);\n",
      "        }\n",
      "        if (root.Bokeh !== undefined) {\n",
      "          embed_document(root);\n",
      "        } else {\n",
      "          let attempts = 0;\n",
      "          const timer = setInterval(function(root) {\n",
      "            if (root.Bokeh !== undefined) {\n",
      "              clearInterval(timer);\n",
      "              embed_document(root);\n",
      "            } else {\n",
      "              attempts++;\n",
      "              if (attempts > 100) {\n",
      "                clearInterval(timer);\n",
      "                console.log(\"Bokeh: ERROR: Unable to run BokehJS code because BokehJS library is missing\");\n",
      "              }\n",
      "            }\n",
      "          }, 10, root)\n",
      "        }\n",
      "      })(window);\n",
      "    });\n",
      "  };\n",
      "  if (document.readyState != \"loading\") fn();\n",
      "  else document.addEventListener(\"DOMContentLoaded\", fn);\n",
      "})();\n",
      "    </script>\n",
      "\n"
     ]
    }
   ],
   "source": [
    "print(script)"
   ]
  },
  {
   "cell_type": "code",
   "execution_count": 4,
   "id": "e58a6a41",
   "metadata": {},
   "outputs": [
    {
     "name": "stdout",
     "output_type": "stream",
     "text": [
      "{'Red': '<div class=\"bk-root\" id=\"327e991e-2c16-4edf-ac66-2d394325b32a\" data-root-id=\"1274\"></div>', 'Blue': '<div class=\"bk-root\" id=\"97afff1b-7f60-4eee-9652-f627b158669a\" data-root-id=\"1307\"></div>', 'Green': '<div class=\"bk-root\" id=\"75aef6b0-3def-42dc-b5e0-6221e02b9765\" data-root-id=\"1340\"></div>'}\n"
     ]
    }
   ],
   "source": [
    "print(div)"
   ]
  }
 ],
 "metadata": {
  "kernelspec": {
   "display_name": "Python 3 (ipykernel)",
   "language": "python",
   "name": "python3"
  },
  "language_info": {
   "codemirror_mode": {
    "name": "ipython",
    "version": 3
   },
   "file_extension": ".py",
   "mimetype": "text/x-python",
   "name": "python",
   "nbconvert_exporter": "python",
   "pygments_lexer": "ipython3",
   "version": "3.9.15"
  }
 },
 "nbformat": 4,
 "nbformat_minor": 5
}
