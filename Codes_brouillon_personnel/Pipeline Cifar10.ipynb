{
 "cells": [
  {
   "cell_type": "markdown",
   "id": "11bf20ff",
   "metadata": {},
   "source": [
    "# https://www.univ-montp3.fr/miap/ens/miashs/master/ues/test_maximilien/htmls/6_deeplearning/2_filters_representation.html#v-visualisation-des-filtres-parametres-appris"
   ]
  },
  {
   "cell_type": "code",
   "execution_count": 38,
   "id": "c36e05cc",
   "metadata": {},
   "outputs": [],
   "source": [
    "import torch\n",
    "import torchvision\n",
    "import torch.nn as nn\n",
    "import torch.optim as optim\n",
    "import torch.nn.functional as F\n",
    "from torch.optim.lr_scheduler import MultiStepLR\n",
    "from torchvision import datasets, models\n",
    "from torch.utils.data import DataLoader\n",
    "import torchvision.transforms as transforms\n",
    "from torch.utils.data.sampler import SubsetRandomSampler\n",
    "\n",
    "import ssl\n",
    "ssl._create_default_https_context = ssl._create_unverified_context\n",
    "\n",
    "import umap\n",
    "import plotly.express as px\n",
    "\n",
    "import numpy as np\n",
    "\n",
    "import copy"
   ]
  },
  {
   "cell_type": "markdown",
   "id": "54ae8994",
   "metadata": {},
   "source": [
    "# Paramétrage"
   ]
  },
  {
   "cell_type": "code",
   "execution_count": 5,
   "id": "9d0ab69c",
   "metadata": {},
   "outputs": [],
   "source": [
    "import os\n",
    "# Each itereates over the dataloader define with batch size will get a batch of batch size samples\n",
    "# After the iterator has gone through every data sample (one epoch), then we shuffle the order and we go again.\n",
    "batch_size = 128\n",
    "num_workers = 2"
   ]
  },
  {
   "cell_type": "markdown",
   "id": "2d16c5fa",
   "metadata": {},
   "source": [
    "# I. Construction du jeu de données CIFAR10"
   ]
  },
  {
   "cell_type": "markdown",
   "id": "a1697589",
   "metadata": {},
   "source": [
    "## Méthode de split"
   ]
  },
  {
   "cell_type": "code",
   "execution_count": 7,
   "id": "4272b174",
   "metadata": {},
   "outputs": [],
   "source": [
    "def split_dataset(dataset, valid_size = 0.0, random_state=42):\n",
    "    dataset_size = len(dataset)\n",
    "    indices = list(range(dataset_size))\n",
    "    split = int(np.floor(valid_size * dataset_size))\n",
    "\n",
    "    np.random.seed(random_state)\n",
    "    np.random.shuffle(indices)\n",
    "\n",
    "    train_idx, valid_idx = indices[split:], indices[:split]\n",
    "    train_sampler = SubsetRandomSampler(train_idx)\n",
    "    valid_sampler = SubsetRandomSampler(valid_idx)\n",
    "\n",
    "    return dataset, copy.deepcopy(dataset), train_sampler, valid_sampler"
   ]
  },
  {
   "cell_type": "markdown",
   "id": "25e84208",
   "metadata": {},
   "source": [
    "## Construction du jeu de données"
   ]
  },
  {
   "cell_type": "code",
   "execution_count": 45,
   "id": "b7a29bb6",
   "metadata": {},
   "outputs": [
    {
     "name": "stdout",
     "output_type": "stream",
     "text": [
      "Files already downloaded and verified\n",
      "10000 2500\n",
      "Files already downloaded and verified\n",
      "Nb test batchs: 2500\n"
     ]
    }
   ],
   "source": [
    "# label names\n",
    "classes = ('plane', 'car', 'bird', 'cat', 'deer', 'dog', 'frog', 'horse', 'ship', 'truck')\n",
    "\n",
    "transform = transforms.Compose(\n",
    "  [\n",
    "      transforms.ToTensor(),\n",
    "      transforms.Normalize((0.5, 0.5, 0.5), (0.5, 0.5, 0.5))\n",
    "  ]\n",
    ")\n",
    "\n",
    "#root_directory where images are.\n",
    "trainset = datasets.CIFAR10(root='./data', train=True, download=True, transform=transform)\n",
    "\n",
    "trainset, validset, train_sampler, valid_sampler = split_dataset(trainset, valid_size = 0.2, random_state=None)\n",
    "\n",
    "trainloader = DataLoader(\n",
    "  trainset, batch_size=batch_size, sampler=train_sampler,\n",
    "  num_workers=num_workers,\n",
    ")\n",
    "\n",
    "validloader = DataLoader(\n",
    "  validset, batch_size=batch_size, sampler=valid_sampler,\n",
    "  num_workers=num_workers,\n",
    ")\n",
    "\n",
    "print(len(trainloader), len(validloader))\n",
    "\n",
    "testset = datasets.CIFAR10(root='./data', train=False, download=True, transform=transform)\n",
    "testloader = DataLoader(\n",
    "  testset, batch_size=batch_size, shuffle=True,\n",
    "  num_workers=num_workers,\n",
    ")\n",
    "\n",
    "print('Nb test batchs:', len(testloader))"
   ]
  },
  {
   "cell_type": "markdown",
   "id": "af428356",
   "metadata": {},
   "source": [
    "# Visualisation des données"
   ]
  },
  {
   "cell_type": "markdown",
   "id": "5927846d",
   "metadata": {},
   "source": [
    "## Méthode de visualisation"
   ]
  },
  {
   "cell_type": "code",
   "execution_count": 51,
   "id": "1e5eccbf",
   "metadata": {},
   "outputs": [],
   "source": [
    "#### Visualisation d'images du jeu de données\n",
    "import matplotlib.pyplot as plt\n",
    "import numpy as np\n",
    "\n",
    "def imshow(images, labels, predicted=None):\n",
    "    plt.figure(figsize=(15, 10))\n",
    "    for idx in range(8):\n",
    "        plt.subplot(2, 4, idx+1)\n",
    "        plt.axis('off')\n",
    "        img = (images[idx] * 0.224 + 0.456)#/ 2 + 0.5  # unnormalize\n",
    "        npimg = img.numpy()\n",
    "        plt.axis('off')\n",
    "        plt.imshow(np.transpose(npimg, (1, 2, 0)))\n",
    "        title = str(classes[labels[idx]]) + \\\n",
    "        ('' if predicted is None else ' - ' + str(classes[predicted[idx]]))\n",
    "        plt.title(title)\n",
    "        \n",
    "    plt.show()"
   ]
  },
  {
   "cell_type": "markdown",
   "id": "bfce1344",
   "metadata": {},
   "source": [
    "## Visulisation"
   ]
  },
  {
   "cell_type": "code",
   "execution_count": 50,
   "id": "50f77857",
   "metadata": {},
   "outputs": [
    {
     "ename": "IndexError",
     "evalue": "index 4 is out of bounds for dimension 0 with size 4",
     "output_type": "error",
     "traceback": [
      "\u001b[1;31m---------------------------------------------------------------------------\u001b[0m",
      "\u001b[1;31mIndexError\u001b[0m                                Traceback (most recent call last)",
      "\u001b[1;32m~\\AppData\\Local\\Temp\\ipykernel_15440\\4114336320.py\u001b[0m in \u001b[0;36m<module>\u001b[1;34m\u001b[0m\n\u001b[0;32m      5\u001b[0m \u001b[1;33m\u001b[0m\u001b[0m\n\u001b[0;32m      6\u001b[0m \u001b[1;31m# show images\u001b[0m\u001b[1;33m\u001b[0m\u001b[1;33m\u001b[0m\u001b[0m\n\u001b[1;32m----> 7\u001b[1;33m \u001b[0mimshow\u001b[0m\u001b[1;33m(\u001b[0m\u001b[0mimages\u001b[0m\u001b[1;33m[\u001b[0m\u001b[1;33m:\u001b[0m\u001b[1;36m8\u001b[0m\u001b[1;33m]\u001b[0m\u001b[1;33m,\u001b[0m \u001b[0mlabels\u001b[0m\u001b[1;33m[\u001b[0m\u001b[1;33m:\u001b[0m\u001b[1;36m8\u001b[0m\u001b[1;33m]\u001b[0m\u001b[1;33m)\u001b[0m\u001b[1;33m\u001b[0m\u001b[1;33m\u001b[0m\u001b[0m\n\u001b[0m",
      "\u001b[1;32m~\\AppData\\Local\\Temp\\ipykernel_15440\\1001866969.py\u001b[0m in \u001b[0;36mimshow\u001b[1;34m(images, labels, predicted)\u001b[0m\n\u001b[0;32m      8\u001b[0m         \u001b[0mplt\u001b[0m\u001b[1;33m.\u001b[0m\u001b[0msubplot\u001b[0m\u001b[1;33m(\u001b[0m\u001b[1;36m2\u001b[0m\u001b[1;33m,\u001b[0m \u001b[1;36m4\u001b[0m\u001b[1;33m,\u001b[0m \u001b[0midx\u001b[0m\u001b[1;33m+\u001b[0m\u001b[1;36m1\u001b[0m\u001b[1;33m)\u001b[0m\u001b[1;33m\u001b[0m\u001b[1;33m\u001b[0m\u001b[0m\n\u001b[0;32m      9\u001b[0m         \u001b[0mplt\u001b[0m\u001b[1;33m.\u001b[0m\u001b[0maxis\u001b[0m\u001b[1;33m(\u001b[0m\u001b[1;34m'off'\u001b[0m\u001b[1;33m)\u001b[0m\u001b[1;33m\u001b[0m\u001b[1;33m\u001b[0m\u001b[0m\n\u001b[1;32m---> 10\u001b[1;33m         \u001b[0mimg\u001b[0m \u001b[1;33m=\u001b[0m \u001b[1;33m(\u001b[0m\u001b[0mimages\u001b[0m\u001b[1;33m[\u001b[0m\u001b[0midx\u001b[0m\u001b[1;33m]\u001b[0m \u001b[1;33m*\u001b[0m \u001b[1;36m0.224\u001b[0m \u001b[1;33m+\u001b[0m \u001b[1;36m0.456\u001b[0m\u001b[1;33m)\u001b[0m\u001b[1;31m#/ 2 + 0.5  # unnormalize\u001b[0m\u001b[1;33m\u001b[0m\u001b[1;33m\u001b[0m\u001b[0m\n\u001b[0m\u001b[0;32m     11\u001b[0m         \u001b[0mnpimg\u001b[0m \u001b[1;33m=\u001b[0m \u001b[0mimg\u001b[0m\u001b[1;33m.\u001b[0m\u001b[0mnumpy\u001b[0m\u001b[1;33m(\u001b[0m\u001b[1;33m)\u001b[0m\u001b[1;33m\u001b[0m\u001b[1;33m\u001b[0m\u001b[0m\n\u001b[0;32m     12\u001b[0m         \u001b[0mplt\u001b[0m\u001b[1;33m.\u001b[0m\u001b[0maxis\u001b[0m\u001b[1;33m(\u001b[0m\u001b[1;34m'off'\u001b[0m\u001b[1;33m)\u001b[0m\u001b[1;33m\u001b[0m\u001b[1;33m\u001b[0m\u001b[0m\n",
      "\u001b[1;31mIndexError\u001b[0m: index 4 is out of bounds for dimension 0 with size 4"
     ]
    },
    {
     "data": {
      "image/png": "[encoded data removed]",
      "text/plain": [
       "<Figure size 1500x1000 with 5 Axes>"
      ]
     },
     "metadata": {},
     "output_type": "display_data"
    }
   ],
   "source": [
    "# get some random training images\n",
    "\n",
    "dataiter = iter(testloader)\n",
    "images, labels = next(dataiter)\n",
    "\n",
    "# show images\n",
    "imshow(images[:8], labels[:8])"
   ]
  },
  {
   "cell_type": "markdown",
   "id": "f0eac4a0",
   "metadata": {},
   "source": [
    "# II. Construction du modèle"
   ]
  },
  {
   "cell_type": "code",
   "execution_count": 53,
   "id": "c81db7f3",
   "metadata": {},
   "outputs": [],
   "source": [
    "class Net(nn.Module):\n",
    "    def __init__(self):\n",
    "        super(Net, self).__init__()\n",
    "        self.conv1 = nn.Conv2d(3, 16, 5)\n",
    "        self.pool = nn.MaxPool2d(2, 2)\n",
    "        self.conv2 = nn.Conv2d(16, 32, 5)\n",
    "        self.fc1 = nn.Linear(32 * 5 * 5, 120)\n",
    "        self.fc2 = nn.Linear(120, 84)\n",
    "        self.fc = nn.Linear(84, 10)\n",
    "\n",
    "    def forward(self, x):\n",
    "        x = self.pool(F.relu(self.conv1(x)))\n",
    "        x = self.pool(F.relu(self.conv2(x)))\n",
    "        x = x.view(-1, 32 * 5 * 5)\n",
    "        x = F.relu(self.fc1(x))\n",
    "        x = F.relu(self.fc2(x))\n",
    "        x = self.fc(x)\n",
    "        return x"
   ]
  },
  {
   "cell_type": "code",
   "execution_count": 54,
   "id": "f9250a0e",
   "metadata": {},
   "outputs": [],
   "source": [
    "model = Net()\n",
    "# model = model.cuda()"
   ]
  },
  {
   "cell_type": "markdown",
   "id": "b0a5f5d8",
   "metadata": {},
   "source": [
    "# III. Visualisation des filtres/paramètres du modèle à l’initialisation"
   ]
  },
  {
   "cell_type": "markdown",
   "id": "4a03c85d",
   "metadata": {},
   "source": [
    "# Méthode de visualisation des filtres"
   ]
  },
  {
   "cell_type": "code",
   "execution_count": 56,
   "id": "713d6ec6",
   "metadata": {},
   "outputs": [],
   "source": [
    "def visualize_filters(tensor, ch=0, allkernels=False, nrow=8, padding=1): \n",
    "    n,c,w,h = tensor.shape\n",
    "\n",
    "    if allkernels: tensor = tensor.view(n*c, -1, w, h)\n",
    "    elif c != 3: tensor = tensor[:,ch,:,:].unsqueeze(dim=1)\n",
    "\n",
    "    rows = np.min((tensor.shape[0] // nrow + 1, 64))    \n",
    "    grid = torchvision.utils.make_grid(tensor, nrow=nrow, normalize=True, padding=padding)\n",
    "    plt.figure( figsize=(nrow,rows) )\n",
    "    plt.imshow(grid.numpy().transpose((1, 2, 0)))\n",
    "    plt.axis('off')\n",
    "    plt.ioff()\n",
    "    plt.show()"
   ]
  },
  {
   "cell_type": "markdown",
   "id": "444c31e7",
   "metadata": {},
   "source": [
    "# Visualisation des filtres"
   ]
  },
  {
   "cell_type": "code",
   "execution_count": 57,
   "id": "d416c3e3",
   "metadata": {},
   "outputs": [
    {
     "data": {
      "image/png": "[encoded data removed]",
      "text/plain": [
       "<Figure size 800x300 with 1 Axes>"
      ]
     },
     "metadata": {},
     "output_type": "display_data"
    }
   ],
   "source": [
    "filters = model.conv1.weight.data.clone().cpu()\n",
    "visualize_filters(filters, ch=0, allkernels=False)"
   ]
  },
  {
   "cell_type": "markdown",
   "id": "a7baaed9",
   "metadata": {},
   "source": [
    "# IV. L’apprentissage"
   ]
  },
  {
   "cell_type": "markdown",
   "id": "00bb2df9",
   "metadata": {},
   "source": [
    "## Fonction objectif, scheduler et optimizer"
   ]
  },
  {
   "cell_type": "code",
   "execution_count": 60,
   "id": "9a9a8979",
   "metadata": {},
   "outputs": [],
   "source": [
    "#Choose the loss function\n",
    "criterion = nn.CrossEntropyLoss()\n",
    "\n",
    "#Optimizer\n",
    "optimizer = optim.SGD(model.parameters(), lr=0.01, momentum=0.9, weight_decay=0.0005)\n",
    "scheduler = MultiStepLR(optimizer, milestones=[25, 50], gamma=0.1)"
   ]
  },
  {
   "cell_type": "markdown",
   "id": "8fd51628",
   "metadata": {},
   "source": [
    "## Méthodes d’évaluation "
   ]
  },
  {
   "cell_type": "code",
   "execution_count": 62,
   "id": "8f75c074",
   "metadata": {},
   "outputs": [],
   "source": [
    "import cv2\n",
    "\n",
    "# Let us code a generic prediction function\n",
    "def predict(model, loader, criterion=nn.CrossEntropyLoss(), feature_extract=False, max_size=0, resize=128):\n",
    "    with torch.no_grad():\n",
    "        if not feature_extract:\n",
    "            model.eval()\n",
    "\n",
    "        y_preds = []\n",
    "        y_labels = []\n",
    "        inputs_ = []\n",
    "\n",
    "        running_loss = 0.0\n",
    "        size = 0.0\n",
    "        for idx, data in enumerate(loader):\n",
    "            inputs, labels = data\n",
    "            # inputs = inputs.cuda()\n",
    "            # labels = labels.cuda()\n",
    "\n",
    "            # wrap them in Variable\n",
    "            outputs = model(inputs)\n",
    "            loss = criterion(outputs, labels)\n",
    "            running_loss += loss.item()\n",
    "\n",
    "            y_preds.extend(outputs.data.tolist())\n",
    "            y_labels.extend(labels.data.tolist())\n",
    "            if size <= max_size and feature_extract:\n",
    "                images = [\n",
    "                    cv2.resize(\n",
    "                        (\n",
    "                            (i*0.224+0.456)*255).astype('uint8').transpose((1, 2, 0)), dsize=(resize, resize)\n",
    "                    ) for i in inputs.data.cpu().numpy()\n",
    "                ]\n",
    "                inputs_.extend(images)\n",
    "                size = len(inputs_)\n",
    "\n",
    "        predictions, labels, inputs = np.asarray(y_preds), np.asarray(y_labels), np.asarray(inputs_)\n",
    "\n",
    "    if not feature_extract:\n",
    "        return predictions, labels, running_loss/len(loader)\n",
    "\n",
    "    return predictions, labels, inputs\n",
    "\n",
    "\n",
    "def accuracy_topk(predictions, labels, top_k=1):\n",
    "        res = 0\n",
    "        for i, pred in enumerate(predictions):\n",
    "            answer = np.argsort(-pred)[0:top_k]\n",
    "            if labels[i] in answer:\n",
    "                res += 1\n",
    "        acc = float(res) / float(labels.shape[0])\n",
    "        return acc\n",
    "\n",
    "    \n",
    "def evaluate(loader, model, top_k = 1, criterion = nn.CrossEntropyLoss()):\n",
    "    predictions, labels, loss = predict(model, loader, criterion)\n",
    "    return accuracy_topk(predictions, labels, top_k = top_k), loss"
   ]
  },
  {
   "cell_type": "markdown",
   "id": "115dc68c",
   "metadata": {},
   "source": [
    "## Méthode d’apprentissage (i.e. d’optimisation)"
   ]
  },
  {
   "cell_type": "code",
   "execution_count": 63,
   "id": "ef523ff7",
   "metadata": {},
   "outputs": [],
   "source": [
    "####### Complete this part ######## or die ####################\n",
    "def train(model, criterion, optimizer, scheduler):\n",
    "    loss_history = []\n",
    "    valid_loss_history = []\n",
    "\n",
    "    acc_history = []\n",
    "    val_acc_history = []\n",
    "\n",
    "    print('**** Finished Training ****')\n",
    "    return loss_history, valid_loss_history, acc_history, val_acc_history\n",
    "###############################################################"
   ]
  },
  {
   "cell_type": "code",
   "execution_count": 64,
   "id": "709c043d",
   "metadata": {},
   "outputs": [
    {
     "data": {
      "image/png": "[encoded data removed]",
      "text/plain": [
       "<Figure size 800x300 with 1 Axes>"
      ]
     },
     "metadata": {},
     "output_type": "display_data"
    }
   ],
   "source": [
    "filters = model.conv1.weight.data.clone().cpu()\n",
    "visualize_filters(filters, ch=0, allkernels=False)"
   ]
  },
  {
   "cell_type": "code",
   "execution_count": 65,
   "id": "b64289c8",
   "metadata": {},
   "outputs": [
    {
     "name": "stdout",
     "output_type": "stream",
     "text": [
      "Test accuracy: 0.100\n"
     ]
    }
   ],
   "source": [
    "accuracy, _ = evaluate(testloader, model)\n",
    "print('Test accuracy: %.3f' % (accuracy), end='\\n')"
   ]
  },
  {
   "cell_type": "code",
   "execution_count": 67,
   "id": "e871a3d8",
   "metadata": {},
   "outputs": [
    {
     "ename": "IndexError",
     "evalue": "index 4 is out of bounds for dimension 0 with size 4",
     "output_type": "error",
     "traceback": [
      "\u001b[1;31m---------------------------------------------------------------------------\u001b[0m",
      "\u001b[1;31mIndexError\u001b[0m                                Traceback (most recent call last)",
      "\u001b[1;32m~\\AppData\\Local\\Temp\\ipykernel_15440\\4169692831.py\u001b[0m in \u001b[0;36m<module>\u001b[1;34m\u001b[0m\n\u001b[0;32m      5\u001b[0m \u001b[0m_\u001b[0m\u001b[1;33m,\u001b[0m \u001b[0mpredicted\u001b[0m \u001b[1;33m=\u001b[0m \u001b[0mtorch\u001b[0m\u001b[1;33m.\u001b[0m\u001b[0mmax\u001b[0m\u001b[1;33m(\u001b[0m\u001b[0moutputs\u001b[0m\u001b[1;33m,\u001b[0m \u001b[1;36m1\u001b[0m\u001b[1;33m)\u001b[0m\u001b[1;33m\u001b[0m\u001b[1;33m\u001b[0m\u001b[0m\n\u001b[0;32m      6\u001b[0m \u001b[1;33m\u001b[0m\u001b[0m\n\u001b[1;32m----> 7\u001b[1;33m \u001b[0mimshow\u001b[0m\u001b[1;33m(\u001b[0m\u001b[0mimages\u001b[0m\u001b[1;33m[\u001b[0m\u001b[1;33m:\u001b[0m\u001b[1;36m8\u001b[0m\u001b[1;33m]\u001b[0m\u001b[1;33m,\u001b[0m \u001b[0mlabels\u001b[0m\u001b[1;33m[\u001b[0m\u001b[1;33m:\u001b[0m\u001b[1;36m8\u001b[0m\u001b[1;33m]\u001b[0m\u001b[1;33m,\u001b[0m \u001b[0mpredicted\u001b[0m\u001b[1;33m[\u001b[0m\u001b[1;33m:\u001b[0m\u001b[1;36m8\u001b[0m\u001b[1;33m]\u001b[0m\u001b[1;33m)\u001b[0m\u001b[1;33m\u001b[0m\u001b[1;33m\u001b[0m\u001b[0m\n\u001b[0m",
      "\u001b[1;32m~\\AppData\\Local\\Temp\\ipykernel_15440\\1582085416.py\u001b[0m in \u001b[0;36mimshow\u001b[1;34m(images, labels, predicted)\u001b[0m\n\u001b[0;32m      8\u001b[0m         \u001b[0mplt\u001b[0m\u001b[1;33m.\u001b[0m\u001b[0msubplot\u001b[0m\u001b[1;33m(\u001b[0m\u001b[1;36m2\u001b[0m\u001b[1;33m,\u001b[0m \u001b[1;36m4\u001b[0m\u001b[1;33m,\u001b[0m \u001b[0midx\u001b[0m\u001b[1;33m+\u001b[0m\u001b[1;36m1\u001b[0m\u001b[1;33m)\u001b[0m\u001b[1;33m\u001b[0m\u001b[1;33m\u001b[0m\u001b[0m\n\u001b[0;32m      9\u001b[0m         \u001b[0mplt\u001b[0m\u001b[1;33m.\u001b[0m\u001b[0maxis\u001b[0m\u001b[1;33m(\u001b[0m\u001b[1;34m'off'\u001b[0m\u001b[1;33m)\u001b[0m\u001b[1;33m\u001b[0m\u001b[1;33m\u001b[0m\u001b[0m\n\u001b[1;32m---> 10\u001b[1;33m         \u001b[0mimg\u001b[0m \u001b[1;33m=\u001b[0m \u001b[1;33m(\u001b[0m\u001b[0mimages\u001b[0m\u001b[1;33m[\u001b[0m\u001b[0midx\u001b[0m\u001b[1;33m]\u001b[0m \u001b[1;33m*\u001b[0m \u001b[1;36m0.224\u001b[0m \u001b[1;33m+\u001b[0m \u001b[1;36m0.456\u001b[0m\u001b[1;33m)\u001b[0m\u001b[1;31m#/ 2 + 0.5  # unnormalize\u001b[0m\u001b[1;33m\u001b[0m\u001b[1;33m\u001b[0m\u001b[0m\n\u001b[0m\u001b[0;32m     11\u001b[0m         \u001b[0mnpimg\u001b[0m \u001b[1;33m=\u001b[0m \u001b[0mimg\u001b[0m\u001b[1;33m.\u001b[0m\u001b[0mnumpy\u001b[0m\u001b[1;33m(\u001b[0m\u001b[1;33m)\u001b[0m\u001b[1;33m\u001b[0m\u001b[1;33m\u001b[0m\u001b[0m\n\u001b[0;32m     12\u001b[0m         \u001b[0mplt\u001b[0m\u001b[1;33m.\u001b[0m\u001b[0maxis\u001b[0m\u001b[1;33m(\u001b[0m\u001b[1;34m'off'\u001b[0m\u001b[1;33m)\u001b[0m\u001b[1;33m\u001b[0m\u001b[1;33m\u001b[0m\u001b[0m\n",
      "\u001b[1;31mIndexError\u001b[0m: index 4 is out of bounds for dimension 0 with size 4"
     ]
    }
   ],
   "source": [
    "#Test prediction on some images\n",
    "dataiter = iter(testloader)\n",
    "images, labels = next(dataiter)\n",
    "outputs = model(images[:8])#  .to(device))  # we use the loaded model\n",
    "_, predicted = torch.max(outputs, 1)\n",
    "\n",
    "imshow(images[:8], labels[:8], predicted[:8])"
   ]
  },
  {
   "cell_type": "code",
   "execution_count": null,
   "id": "83991cf4",
   "metadata": {},
   "outputs": [],
   "source": []
  }
 ],
 "metadata": {
  "kernelspec": {
   "display_name": "Python 3 (ipykernel)",
   "language": "python",
   "name": "python3"
  },
  "language_info": {
   "codemirror_mode": {
    "name": "ipython",
    "version": 3
   },
   "file_extension": ".py",
   "mimetype": "text/x-python",
   "name": "python",
   "nbconvert_exporter": "python",
   "pygments_lexer": "ipython3",
   "version": "3.9.13"
  }
 },
 "nbformat": 4,
 "nbformat_minor": 5
}
