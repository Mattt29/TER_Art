{
 "cells": [
  {
   "cell_type": "code",
   "execution_count": null,
   "id": "aa5d5389",
   "metadata": {},
   "outputs": [],
   "source": [
    "from bokeh.plotting import figure, show\n",
    "from bokeh.io import output_notebook\n",
    "from bokeh.models import ColumnDataSource"
   ]
  },
  {
   "cell_type": "code",
   "execution_count": null,
   "id": "27d95cbf",
   "metadata": {},
   "outputs": [],
   "source": [
    "output_notebook()"
   ]
  },
  {
   "cell_type": "code",
   "execution_count": null,
   "id": "b2f2a7f0",
   "metadata": {},
   "outputs": [],
   "source": [
    "max_size=2000\n",
    "data_df = pd.DataFrame(projections_umap[:max_size], columns=('x', 'y'))\n",
    "datasource = ColumnDataSource(data_df)\n",
    "plot_figure = figure(\n",
    "        title='UMAP projection of the dataset',\n",
    "        plot_width=900,\n",
    "        plot_height=600,\n",
    "        tools=('pan, wheel_zoom, reset')\n",
    "    )\n",
    "plot_figure.circle(\n",
    "        'x',\n",
    "        'y',\n",
    "        source=datasource)"
   ]
  },
  {
   "cell_type": "code",
   "execution_count": null,
   "id": "745bb57b",
   "metadata": {},
   "outputs": [],
   "source": [
    "show(plot_figure)"
   ]
  }
 ],
 "metadata": {
  "kernelspec": {
   "display_name": "Python 3 (ipykernel)",
   "language": "python",
   "name": "python3"
  },
  "language_info": {
   "codemirror_mode": {
    "name": "ipython",
    "version": 3
   },
   "file_extension": ".py",
   "mimetype": "text/x-python",
   "name": "python",
   "nbconvert_exporter": "python",
   "pygments_lexer": "ipython3",
   "version": "3.9.15"
  }
 },
 "nbformat": 4,
 "nbformat_minor": 5
}
