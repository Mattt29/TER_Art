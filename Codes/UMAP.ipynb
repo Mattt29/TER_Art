{
 "cells": [
  {
   "cell_type": "code",
   "execution_count": null,
   "id": "54150ed9",
   "metadata": {},
   "outputs": [],
   "source": [
    "import numpy as np\n",
    "import umap\n",
    "import torch\n",
    "import plotly.express as px"
   ]
  },
  {
   "cell_type": "code",
   "execution_count": null,
   "id": "efc9f999",
   "metadata": {},
   "outputs": [],
   "source": [
    "# Remplir avec les features\n",
    "features=..."
   ]
  },
  {
   "cell_type": "code",
   "execution_count": null,
   "id": "e3f6e5d6",
   "metadata": {},
   "outputs": [],
   "source": [
    "# UMAP Réduction des features à 2 dimensions\n",
    "umap_2d = umap.umap_.UMAP(n_components=2)\n",
    "umap_2d.fit(features)\n",
    "projections_umap = umap_2d.transform(features)"
   ]
  },
  {
   "cell_type": "code",
   "execution_count": null,
   "id": "85dff7f0",
   "metadata": {},
   "outputs": [],
   "source": [
    "# Visualisation\n",
    "fig = px.scatter(projections_umap)\n",
    "fig.show()"
   ]
  }
 ],
 "metadata": {
  "kernelspec": {
   "display_name": "Python 3 (ipykernel)",
   "language": "python",
   "name": "python3"
  },
  "language_info": {
   "codemirror_mode": {
    "name": "ipython",
    "version": 3
   },
   "file_extension": ".py",
   "mimetype": "text/x-python",
   "name": "python",
   "nbconvert_exporter": "python",
   "pygments_lexer": "ipython3",
   "version": "3.9.13"
  }
 },
 "nbformat": 4,
 "nbformat_minor": 5
}
