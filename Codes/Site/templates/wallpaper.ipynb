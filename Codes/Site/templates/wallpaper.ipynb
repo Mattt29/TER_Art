import os
import random
from PIL import Image

def select_random_images(root_folder, num_passes):
    selected_images = []
    
    for _ in range(num_passes):
        for dir_name in os.listdir(root_folder):
            dir_path = os.path.join(root_folder, dir_name)
            
            if os.path.isdir(dir_path):
                files = [f for f in os.listdir(dir_path) if os.path.isfile(os.path.join(dir_path, f))]
                random_file = random.choice(files)
                selected_images.append(os.path.join(dir_path, random_file))
                
    return selected_images

def create_wallpaper(image_paths, output_path):
    # Ouvrir les images
    images = [Image.open(path) for path in image_paths]

    # Déterminer les dimensions du fond d'écran
    total_width = sum([img.width for img in images])
    max_height = max([img.height for img in images])

    # Créer une nouvelle image avec les dimensions du fond d'écran
    wallpaper = Image.new("RGB", (total_width, max_height))

    # Coller les images côte à côte
    x_offset = 0
    for img in images:
        wallpaper.paste(img, (x_offset, 0))
        x_offset += img.width

    # Enregistrer le fond d'écran
    wallpaper.save(output_path)

# Utilisez cette fonction pour sélectionner les images aléatoirement
root_folder = "chemin/vers/le/dossier/principal"
num_passes = 3 # Remplacez par le nombre de parcours souhaité
image_paths = select_random_images(root_folder, num_passes)

# Créez le fond d'écran avec les images sélectionnées
output_path = "wallpaper.jpg"
create_wallpaper(image_paths, output_path)
